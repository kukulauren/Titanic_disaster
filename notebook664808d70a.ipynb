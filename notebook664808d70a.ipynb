{
 "cells": [
  {
   "cell_type": "code",
   "execution_count": 1,
   "id": "869e4c46",
   "metadata": {
    "_cell_guid": "b1076dfc-b9ad-4769-8c92-a6c4dae69d19",
    "_uuid": "8f2839f25d086af736a60e9eeb907d3b93b6e0e5",
    "execution": {
     "iopub.execute_input": "2024-07-03T12:41:14.501292Z",
     "iopub.status.busy": "2024-07-03T12:41:14.500894Z",
     "iopub.status.idle": "2024-07-03T12:41:15.421292Z",
     "shell.execute_reply": "2024-07-03T12:41:15.420089Z"
    },
    "papermill": {
     "duration": 0.931606,
     "end_time": "2024-07-03T12:41:15.423981",
     "exception": false,
     "start_time": "2024-07-03T12:41:14.492375",
     "status": "completed"
    },
    "tags": []
   },
   "outputs": [
    {
     "name": "stdout",
     "output_type": "stream",
     "text": [
      "/kaggle/input/titanic/train.csv\n",
      "/kaggle/input/titanic/test.csv\n",
      "/kaggle/input/titanic/gender_submission.csv\n"
     ]
    }
   ],
   "source": [
    "# This Python 3 environment comes with many helpful analytics libraries installed\n",
    "# It is defined by the kaggle/python Docker image: https://github.com/kaggle/docker-python\n",
    "# For example, here's several helpful packages to load\n",
    "\n",
    "import numpy as np # linear algebra\n",
    "import pandas as pd # data processing, CSV file I/O (e.g. pd.read_csv)\n",
    "\n",
    "# Input data files are available in the read-only \"../input/\" directory\n",
    "# For example, running this (by clicking run or pressing Shift+Enter) will list all files under the input directory\n",
    "\n",
    "import os\n",
    "for dirname, _, filenames in os.walk('/kaggle/input'):\n",
    "    for filename in filenames:\n",
    "        print(os.path.join(dirname, filename))\n",
    "\n",
    "# You can write up to 20GB to the current directory (/kaggle/working/) that gets preserved as output when you create a version using \"Save & Run All\" \n",
    "# You can also write temporary files to /kaggle/temp/, but they won't be saved outside of the current session"
   ]
  },
  {
   "cell_type": "code",
   "execution_count": 2,
   "id": "27cda343",
   "metadata": {
    "execution": {
     "iopub.execute_input": "2024-07-03T12:41:15.438841Z",
     "iopub.status.busy": "2024-07-03T12:41:15.438335Z",
     "iopub.status.idle": "2024-07-03T12:41:15.468160Z",
     "shell.execute_reply": "2024-07-03T12:41:15.467060Z"
    },
    "papermill": {
     "duration": 0.040009,
     "end_time": "2024-07-03T12:41:15.470683",
     "exception": false,
     "start_time": "2024-07-03T12:41:15.430674",
     "status": "completed"
    },
    "tags": []
   },
   "outputs": [],
   "source": [
    "train_set=pd.read_csv(\"/kaggle/input/titanic/train.csv\")\n",
    "test_set=pd.read_csv(\"/kaggle/input/titanic/test.csv\")"
   ]
  },
  {
   "cell_type": "code",
   "execution_count": 3,
   "id": "e536a012",
   "metadata": {
    "execution": {
     "iopub.execute_input": "2024-07-03T12:41:15.484686Z",
     "iopub.status.busy": "2024-07-03T12:41:15.484316Z",
     "iopub.status.idle": "2024-07-03T12:41:15.512009Z",
     "shell.execute_reply": "2024-07-03T12:41:15.511000Z"
    },
    "papermill": {
     "duration": 0.037219,
     "end_time": "2024-07-03T12:41:15.514310",
     "exception": false,
     "start_time": "2024-07-03T12:41:15.477091",
     "status": "completed"
    },
    "tags": []
   },
   "outputs": [
    {
     "data": {
      "text/html": [
       "<div>\n",
       "<style scoped>\n",
       "    .dataframe tbody tr th:only-of-type {\n",
       "        vertical-align: middle;\n",
       "    }\n",
       "\n",
       "    .dataframe tbody tr th {\n",
       "        vertical-align: top;\n",
       "    }\n",
       "\n",
       "    .dataframe thead th {\n",
       "        text-align: right;\n",
       "    }\n",
       "</style>\n",
       "<table border=\"1\" class=\"dataframe\">\n",
       "  <thead>\n",
       "    <tr style=\"text-align: right;\">\n",
       "      <th></th>\n",
       "      <th>PassengerId</th>\n",
       "      <th>Survived</th>\n",
       "      <th>Pclass</th>\n",
       "      <th>Name</th>\n",
       "      <th>Sex</th>\n",
       "      <th>Age</th>\n",
       "      <th>SibSp</th>\n",
       "      <th>Parch</th>\n",
       "      <th>Ticket</th>\n",
       "      <th>Fare</th>\n",
       "      <th>Cabin</th>\n",
       "      <th>Embarked</th>\n",
       "    </tr>\n",
       "  </thead>\n",
       "  <tbody>\n",
       "    <tr>\n",
       "      <th>0</th>\n",
       "      <td>1</td>\n",
       "      <td>0</td>\n",
       "      <td>3</td>\n",
       "      <td>Braund, Mr. Owen Harris</td>\n",
       "      <td>male</td>\n",
       "      <td>22.0</td>\n",
       "      <td>1</td>\n",
       "      <td>0</td>\n",
       "      <td>A/5 21171</td>\n",
       "      <td>7.2500</td>\n",
       "      <td>NaN</td>\n",
       "      <td>S</td>\n",
       "    </tr>\n",
       "    <tr>\n",
       "      <th>1</th>\n",
       "      <td>2</td>\n",
       "      <td>1</td>\n",
       "      <td>1</td>\n",
       "      <td>Cumings, Mrs. John Bradley (Florence Briggs Th...</td>\n",
       "      <td>female</td>\n",
       "      <td>38.0</td>\n",
       "      <td>1</td>\n",
       "      <td>0</td>\n",
       "      <td>PC 17599</td>\n",
       "      <td>71.2833</td>\n",
       "      <td>C85</td>\n",
       "      <td>C</td>\n",
       "    </tr>\n",
       "    <tr>\n",
       "      <th>2</th>\n",
       "      <td>3</td>\n",
       "      <td>1</td>\n",
       "      <td>3</td>\n",
       "      <td>Heikkinen, Miss. Laina</td>\n",
       "      <td>female</td>\n",
       "      <td>26.0</td>\n",
       "      <td>0</td>\n",
       "      <td>0</td>\n",
       "      <td>STON/O2. 3101282</td>\n",
       "      <td>7.9250</td>\n",
       "      <td>NaN</td>\n",
       "      <td>S</td>\n",
       "    </tr>\n",
       "    <tr>\n",
       "      <th>3</th>\n",
       "      <td>4</td>\n",
       "      <td>1</td>\n",
       "      <td>1</td>\n",
       "      <td>Futrelle, Mrs. Jacques Heath (Lily May Peel)</td>\n",
       "      <td>female</td>\n",
       "      <td>35.0</td>\n",
       "      <td>1</td>\n",
       "      <td>0</td>\n",
       "      <td>113803</td>\n",
       "      <td>53.1000</td>\n",
       "      <td>C123</td>\n",
       "      <td>S</td>\n",
       "    </tr>\n",
       "    <tr>\n",
       "      <th>4</th>\n",
       "      <td>5</td>\n",
       "      <td>0</td>\n",
       "      <td>3</td>\n",
       "      <td>Allen, Mr. William Henry</td>\n",
       "      <td>male</td>\n",
       "      <td>35.0</td>\n",
       "      <td>0</td>\n",
       "      <td>0</td>\n",
       "      <td>373450</td>\n",
       "      <td>8.0500</td>\n",
       "      <td>NaN</td>\n",
       "      <td>S</td>\n",
       "    </tr>\n",
       "  </tbody>\n",
       "</table>\n",
       "</div>"
      ],
      "text/plain": [
       "   PassengerId  Survived  Pclass  \\\n",
       "0            1         0       3   \n",
       "1            2         1       1   \n",
       "2            3         1       3   \n",
       "3            4         1       1   \n",
       "4            5         0       3   \n",
       "\n",
       "                                                Name     Sex   Age  SibSp  \\\n",
       "0                            Braund, Mr. Owen Harris    male  22.0      1   \n",
       "1  Cumings, Mrs. John Bradley (Florence Briggs Th...  female  38.0      1   \n",
       "2                             Heikkinen, Miss. Laina  female  26.0      0   \n",
       "3       Futrelle, Mrs. Jacques Heath (Lily May Peel)  female  35.0      1   \n",
       "4                           Allen, Mr. William Henry    male  35.0      0   \n",
       "\n",
       "   Parch            Ticket     Fare Cabin Embarked  \n",
       "0      0         A/5 21171   7.2500   NaN        S  \n",
       "1      0          PC 17599  71.2833   C85        C  \n",
       "2      0  STON/O2. 3101282   7.9250   NaN        S  \n",
       "3      0            113803  53.1000  C123        S  \n",
       "4      0            373450   8.0500   NaN        S  "
      ]
     },
     "execution_count": 3,
     "metadata": {},
     "output_type": "execute_result"
    }
   ],
   "source": [
    "train_set.head()"
   ]
  },
  {
   "cell_type": "markdown",
   "id": "5457d614",
   "metadata": {
    "papermill": {
     "duration": 0.006135,
     "end_time": "2024-07-03T12:41:15.527001",
     "exception": false,
     "start_time": "2024-07-03T12:41:15.520866",
     "status": "completed"
    },
    "tags": []
   },
   "source": [
    "## Let's do one hot encoding to Sex and normalize to the age.\n"
   ]
  },
  {
   "cell_type": "code",
   "execution_count": 4,
   "id": "f9478b74",
   "metadata": {
    "execution": {
     "iopub.execute_input": "2024-07-03T12:41:15.542251Z",
     "iopub.status.busy": "2024-07-03T12:41:15.541497Z",
     "iopub.status.idle": "2024-07-03T12:41:15.556807Z",
     "shell.execute_reply": "2024-07-03T12:41:15.555587Z"
    },
    "papermill": {
     "duration": 0.025652,
     "end_time": "2024-07-03T12:41:15.559285",
     "exception": false,
     "start_time": "2024-07-03T12:41:15.533633",
     "status": "completed"
    },
    "tags": []
   },
   "outputs": [],
   "source": [
    "train_set = train_set.dropna(subset=[\"Age\"])"
   ]
  },
  {
   "cell_type": "code",
   "execution_count": 5,
   "id": "3fa159ea",
   "metadata": {
    "execution": {
     "iopub.execute_input": "2024-07-03T12:41:15.574338Z",
     "iopub.status.busy": "2024-07-03T12:41:15.573414Z",
     "iopub.status.idle": "2024-07-03T12:41:15.592614Z",
     "shell.execute_reply": "2024-07-03T12:41:15.591235Z"
    },
    "papermill": {
     "duration": 0.02906,
     "end_time": "2024-07-03T12:41:15.594820",
     "exception": false,
     "start_time": "2024-07-03T12:41:15.565760",
     "status": "completed"
    },
    "tags": []
   },
   "outputs": [
    {
     "name": "stdout",
     "output_type": "stream",
     "text": [
      "<class 'pandas.core.series.Series'>\n",
      "Index: 714 entries, 0 to 890\n",
      "Series name: Age\n",
      "Non-Null Count  Dtype  \n",
      "--------------  -----  \n",
      "714 non-null    float64\n",
      "dtypes: float64(1)\n",
      "memory usage: 11.2 KB\n"
     ]
    }
   ],
   "source": [
    "train_set.Age.info()"
   ]
  },
  {
   "cell_type": "code",
   "execution_count": 6,
   "id": "6ed2fdf9",
   "metadata": {
    "execution": {
     "iopub.execute_input": "2024-07-03T12:41:15.609595Z",
     "iopub.status.busy": "2024-07-03T12:41:15.609204Z",
     "iopub.status.idle": "2024-07-03T12:41:29.336947Z",
     "shell.execute_reply": "2024-07-03T12:41:29.335783Z"
    },
    "papermill": {
     "duration": 13.738237,
     "end_time": "2024-07-03T12:41:29.339743",
     "exception": false,
     "start_time": "2024-07-03T12:41:15.601506",
     "status": "completed"
    },
    "tags": []
   },
   "outputs": [
    {
     "name": "stderr",
     "output_type": "stream",
     "text": [
      "2024-07-03 12:41:17.782592: E external/local_xla/xla/stream_executor/cuda/cuda_dnn.cc:9261] Unable to register cuDNN factory: Attempting to register factory for plugin cuDNN when one has already been registered\n",
      "2024-07-03 12:41:17.782743: E external/local_xla/xla/stream_executor/cuda/cuda_fft.cc:607] Unable to register cuFFT factory: Attempting to register factory for plugin cuFFT when one has already been registered\n",
      "2024-07-03 12:41:17.942615: E external/local_xla/xla/stream_executor/cuda/cuda_blas.cc:1515] Unable to register cuBLAS factory: Attempting to register factory for plugin cuBLAS when one has already been registered\n"
     ]
    }
   ],
   "source": [
    "import tensorflow as tf\n",
    "from tensorflow.keras.layers import Normalization\n",
    "\n",
    "# Convert 'Age' column to a TensorFlow tensor\n",
    "age_tensor = tf.convert_to_tensor(train_set['Age'].values.reshape(-1, 1), dtype=tf.float32)\n",
    "\n",
    "# Create the normalization layer\n",
    "norm_l = Normalization(axis=-1)\n",
    "\n",
    "# Adapt the normalization layer to the 'Age' tensor\n",
    "norm_l.adapt(age_tensor)\n",
    "\n",
    "# Normalize the 'Age' column\n",
    "normalized_age_tensor = norm_l(age_tensor)\n",
    "\n",
    "# Convert normalized tensor back to a pandas Series and add to the DataFrame\n",
    "train_set['norm_age'] = normalized_age_tensor.numpy().flatten()\n"
   ]
  },
  {
   "cell_type": "code",
   "execution_count": 7,
   "id": "1b81ef46",
   "metadata": {
    "execution": {
     "iopub.execute_input": "2024-07-03T12:41:29.355869Z",
     "iopub.status.busy": "2024-07-03T12:41:29.354413Z",
     "iopub.status.idle": "2024-07-03T12:41:29.374492Z",
     "shell.execute_reply": "2024-07-03T12:41:29.373332Z"
    },
    "papermill": {
     "duration": 0.030247,
     "end_time": "2024-07-03T12:41:29.376855",
     "exception": false,
     "start_time": "2024-07-03T12:41:29.346608",
     "status": "completed"
    },
    "tags": []
   },
   "outputs": [
    {
     "data": {
      "text/html": [
       "<div>\n",
       "<style scoped>\n",
       "    .dataframe tbody tr th:only-of-type {\n",
       "        vertical-align: middle;\n",
       "    }\n",
       "\n",
       "    .dataframe tbody tr th {\n",
       "        vertical-align: top;\n",
       "    }\n",
       "\n",
       "    .dataframe thead th {\n",
       "        text-align: right;\n",
       "    }\n",
       "</style>\n",
       "<table border=\"1\" class=\"dataframe\">\n",
       "  <thead>\n",
       "    <tr style=\"text-align: right;\">\n",
       "      <th></th>\n",
       "      <th>PassengerId</th>\n",
       "      <th>Survived</th>\n",
       "      <th>Pclass</th>\n",
       "      <th>Name</th>\n",
       "      <th>Sex</th>\n",
       "      <th>Age</th>\n",
       "      <th>SibSp</th>\n",
       "      <th>Parch</th>\n",
       "      <th>Ticket</th>\n",
       "      <th>Fare</th>\n",
       "      <th>Cabin</th>\n",
       "      <th>Embarked</th>\n",
       "      <th>norm_age</th>\n",
       "    </tr>\n",
       "  </thead>\n",
       "  <tbody>\n",
       "    <tr>\n",
       "      <th>0</th>\n",
       "      <td>1</td>\n",
       "      <td>0</td>\n",
       "      <td>3</td>\n",
       "      <td>Braund, Mr. Owen Harris</td>\n",
       "      <td>male</td>\n",
       "      <td>22.0</td>\n",
       "      <td>1</td>\n",
       "      <td>0</td>\n",
       "      <td>A/5 21171</td>\n",
       "      <td>7.2500</td>\n",
       "      <td>NaN</td>\n",
       "      <td>S</td>\n",
       "      <td>-0.530377</td>\n",
       "    </tr>\n",
       "    <tr>\n",
       "      <th>1</th>\n",
       "      <td>2</td>\n",
       "      <td>1</td>\n",
       "      <td>1</td>\n",
       "      <td>Cumings, Mrs. John Bradley (Florence Briggs Th...</td>\n",
       "      <td>female</td>\n",
       "      <td>38.0</td>\n",
       "      <td>1</td>\n",
       "      <td>0</td>\n",
       "      <td>PC 17599</td>\n",
       "      <td>71.2833</td>\n",
       "      <td>C85</td>\n",
       "      <td>C</td>\n",
       "      <td>0.571831</td>\n",
       "    </tr>\n",
       "    <tr>\n",
       "      <th>2</th>\n",
       "      <td>3</td>\n",
       "      <td>1</td>\n",
       "      <td>3</td>\n",
       "      <td>Heikkinen, Miss. Laina</td>\n",
       "      <td>female</td>\n",
       "      <td>26.0</td>\n",
       "      <td>0</td>\n",
       "      <td>0</td>\n",
       "      <td>STON/O2. 3101282</td>\n",
       "      <td>7.9250</td>\n",
       "      <td>NaN</td>\n",
       "      <td>S</td>\n",
       "      <td>-0.254825</td>\n",
       "    </tr>\n",
       "    <tr>\n",
       "      <th>3</th>\n",
       "      <td>4</td>\n",
       "      <td>1</td>\n",
       "      <td>1</td>\n",
       "      <td>Futrelle, Mrs. Jacques Heath (Lily May Peel)</td>\n",
       "      <td>female</td>\n",
       "      <td>35.0</td>\n",
       "      <td>1</td>\n",
       "      <td>0</td>\n",
       "      <td>113803</td>\n",
       "      <td>53.1000</td>\n",
       "      <td>C123</td>\n",
       "      <td>S</td>\n",
       "      <td>0.365167</td>\n",
       "    </tr>\n",
       "    <tr>\n",
       "      <th>4</th>\n",
       "      <td>5</td>\n",
       "      <td>0</td>\n",
       "      <td>3</td>\n",
       "      <td>Allen, Mr. William Henry</td>\n",
       "      <td>male</td>\n",
       "      <td>35.0</td>\n",
       "      <td>0</td>\n",
       "      <td>0</td>\n",
       "      <td>373450</td>\n",
       "      <td>8.0500</td>\n",
       "      <td>NaN</td>\n",
       "      <td>S</td>\n",
       "      <td>0.365167</td>\n",
       "    </tr>\n",
       "    <tr>\n",
       "      <th>...</th>\n",
       "      <td>...</td>\n",
       "      <td>...</td>\n",
       "      <td>...</td>\n",
       "      <td>...</td>\n",
       "      <td>...</td>\n",
       "      <td>...</td>\n",
       "      <td>...</td>\n",
       "      <td>...</td>\n",
       "      <td>...</td>\n",
       "      <td>...</td>\n",
       "      <td>...</td>\n",
       "      <td>...</td>\n",
       "      <td>...</td>\n",
       "    </tr>\n",
       "    <tr>\n",
       "      <th>885</th>\n",
       "      <td>886</td>\n",
       "      <td>0</td>\n",
       "      <td>3</td>\n",
       "      <td>Rice, Mrs. William (Margaret Norton)</td>\n",
       "      <td>female</td>\n",
       "      <td>39.0</td>\n",
       "      <td>0</td>\n",
       "      <td>5</td>\n",
       "      <td>382652</td>\n",
       "      <td>29.1250</td>\n",
       "      <td>NaN</td>\n",
       "      <td>Q</td>\n",
       "      <td>0.640719</td>\n",
       "    </tr>\n",
       "    <tr>\n",
       "      <th>886</th>\n",
       "      <td>887</td>\n",
       "      <td>0</td>\n",
       "      <td>2</td>\n",
       "      <td>Montvila, Rev. Juozas</td>\n",
       "      <td>male</td>\n",
       "      <td>27.0</td>\n",
       "      <td>0</td>\n",
       "      <td>0</td>\n",
       "      <td>211536</td>\n",
       "      <td>13.0000</td>\n",
       "      <td>NaN</td>\n",
       "      <td>S</td>\n",
       "      <td>-0.185937</td>\n",
       "    </tr>\n",
       "    <tr>\n",
       "      <th>887</th>\n",
       "      <td>888</td>\n",
       "      <td>1</td>\n",
       "      <td>1</td>\n",
       "      <td>Graham, Miss. Margaret Edith</td>\n",
       "      <td>female</td>\n",
       "      <td>19.0</td>\n",
       "      <td>0</td>\n",
       "      <td>0</td>\n",
       "      <td>112053</td>\n",
       "      <td>30.0000</td>\n",
       "      <td>B42</td>\n",
       "      <td>S</td>\n",
       "      <td>-0.737041</td>\n",
       "    </tr>\n",
       "    <tr>\n",
       "      <th>889</th>\n",
       "      <td>890</td>\n",
       "      <td>1</td>\n",
       "      <td>1</td>\n",
       "      <td>Behr, Mr. Karl Howell</td>\n",
       "      <td>male</td>\n",
       "      <td>26.0</td>\n",
       "      <td>0</td>\n",
       "      <td>0</td>\n",
       "      <td>111369</td>\n",
       "      <td>30.0000</td>\n",
       "      <td>C148</td>\n",
       "      <td>C</td>\n",
       "      <td>-0.254825</td>\n",
       "    </tr>\n",
       "    <tr>\n",
       "      <th>890</th>\n",
       "      <td>891</td>\n",
       "      <td>0</td>\n",
       "      <td>3</td>\n",
       "      <td>Dooley, Mr. Patrick</td>\n",
       "      <td>male</td>\n",
       "      <td>32.0</td>\n",
       "      <td>0</td>\n",
       "      <td>0</td>\n",
       "      <td>370376</td>\n",
       "      <td>7.7500</td>\n",
       "      <td>NaN</td>\n",
       "      <td>Q</td>\n",
       "      <td>0.158503</td>\n",
       "    </tr>\n",
       "  </tbody>\n",
       "</table>\n",
       "<p>714 rows × 13 columns</p>\n",
       "</div>"
      ],
      "text/plain": [
       "     PassengerId  Survived  Pclass  \\\n",
       "0              1         0       3   \n",
       "1              2         1       1   \n",
       "2              3         1       3   \n",
       "3              4         1       1   \n",
       "4              5         0       3   \n",
       "..           ...       ...     ...   \n",
       "885          886         0       3   \n",
       "886          887         0       2   \n",
       "887          888         1       1   \n",
       "889          890         1       1   \n",
       "890          891         0       3   \n",
       "\n",
       "                                                  Name     Sex   Age  SibSp  \\\n",
       "0                              Braund, Mr. Owen Harris    male  22.0      1   \n",
       "1    Cumings, Mrs. John Bradley (Florence Briggs Th...  female  38.0      1   \n",
       "2                               Heikkinen, Miss. Laina  female  26.0      0   \n",
       "3         Futrelle, Mrs. Jacques Heath (Lily May Peel)  female  35.0      1   \n",
       "4                             Allen, Mr. William Henry    male  35.0      0   \n",
       "..                                                 ...     ...   ...    ...   \n",
       "885               Rice, Mrs. William (Margaret Norton)  female  39.0      0   \n",
       "886                              Montvila, Rev. Juozas    male  27.0      0   \n",
       "887                       Graham, Miss. Margaret Edith  female  19.0      0   \n",
       "889                              Behr, Mr. Karl Howell    male  26.0      0   \n",
       "890                                Dooley, Mr. Patrick    male  32.0      0   \n",
       "\n",
       "     Parch            Ticket     Fare Cabin Embarked  norm_age  \n",
       "0        0         A/5 21171   7.2500   NaN        S -0.530377  \n",
       "1        0          PC 17599  71.2833   C85        C  0.571831  \n",
       "2        0  STON/O2. 3101282   7.9250   NaN        S -0.254825  \n",
       "3        0            113803  53.1000  C123        S  0.365167  \n",
       "4        0            373450   8.0500   NaN        S  0.365167  \n",
       "..     ...               ...      ...   ...      ...       ...  \n",
       "885      5            382652  29.1250   NaN        Q  0.640719  \n",
       "886      0            211536  13.0000   NaN        S -0.185937  \n",
       "887      0            112053  30.0000   B42        S -0.737041  \n",
       "889      0            111369  30.0000  C148        C -0.254825  \n",
       "890      0            370376   7.7500   NaN        Q  0.158503  \n",
       "\n",
       "[714 rows x 13 columns]"
      ]
     },
     "execution_count": 7,
     "metadata": {},
     "output_type": "execute_result"
    }
   ],
   "source": [
    "train_set"
   ]
  },
  {
   "cell_type": "code",
   "execution_count": 8,
   "id": "e4b95d04",
   "metadata": {
    "execution": {
     "iopub.execute_input": "2024-07-03T12:41:29.392284Z",
     "iopub.status.busy": "2024-07-03T12:41:29.391911Z",
     "iopub.status.idle": "2024-07-03T12:41:29.397132Z",
     "shell.execute_reply": "2024-07-03T12:41:29.395912Z"
    },
    "papermill": {
     "duration": 0.015591,
     "end_time": "2024-07-03T12:41:29.399349",
     "exception": false,
     "start_time": "2024-07-03T12:41:29.383758",
     "status": "completed"
    },
    "tags": []
   },
   "outputs": [],
   "source": [
    "y_train=train_set[\"Survived\"]"
   ]
  },
  {
   "cell_type": "code",
   "execution_count": 9,
   "id": "d6e10732",
   "metadata": {
    "execution": {
     "iopub.execute_input": "2024-07-03T12:41:29.415911Z",
     "iopub.status.busy": "2024-07-03T12:41:29.414902Z",
     "iopub.status.idle": "2024-07-03T12:41:29.421735Z",
     "shell.execute_reply": "2024-07-03T12:41:29.420646Z"
    },
    "papermill": {
     "duration": 0.017562,
     "end_time": "2024-07-03T12:41:29.423973",
     "exception": false,
     "start_time": "2024-07-03T12:41:29.406411",
     "status": "completed"
    },
    "tags": []
   },
   "outputs": [
    {
     "data": {
      "text/plain": [
       "(714,)"
      ]
     },
     "execution_count": 9,
     "metadata": {},
     "output_type": "execute_result"
    }
   ],
   "source": [
    "y_train.shape"
   ]
  },
  {
   "cell_type": "code",
   "execution_count": 10,
   "id": "5bf3ab3c",
   "metadata": {
    "execution": {
     "iopub.execute_input": "2024-07-03T12:41:29.440341Z",
     "iopub.status.busy": "2024-07-03T12:41:29.439975Z",
     "iopub.status.idle": "2024-07-03T12:41:30.895014Z",
     "shell.execute_reply": "2024-07-03T12:41:30.893888Z"
    },
    "papermill": {
     "duration": 1.466677,
     "end_time": "2024-07-03T12:41:30.897768",
     "exception": false,
     "start_time": "2024-07-03T12:41:29.431091",
     "status": "completed"
    },
    "tags": []
   },
   "outputs": [],
   "source": [
    "from sklearn.ensemble import RandomForestClassifier\n",
    "\n",
    "features = [\"Pclass\", \"Sex\", \"SibSp\",\"norm_age\", \"Parch\"]\n",
    "X = pd.get_dummies(train_set[features])\n"
   ]
  },
  {
   "cell_type": "code",
   "execution_count": 11,
   "id": "fbf71944",
   "metadata": {
    "execution": {
     "iopub.execute_input": "2024-07-03T12:41:30.914109Z",
     "iopub.status.busy": "2024-07-03T12:41:30.913719Z",
     "iopub.status.idle": "2024-07-03T12:41:30.919922Z",
     "shell.execute_reply": "2024-07-03T12:41:30.918924Z"
    },
    "papermill": {
     "duration": 0.016998,
     "end_time": "2024-07-03T12:41:30.922064",
     "exception": false,
     "start_time": "2024-07-03T12:41:30.905066",
     "status": "completed"
    },
    "tags": []
   },
   "outputs": [],
   "source": [
    "import numpy as np\n",
    "age_mean = train_set['Age'].mean()\n",
    "test_set['Age'] = test_set['Age'].fillna(age_mean)"
   ]
  },
  {
   "cell_type": "code",
   "execution_count": 12,
   "id": "92fb1577",
   "metadata": {
    "execution": {
     "iopub.execute_input": "2024-07-03T12:41:30.941079Z",
     "iopub.status.busy": "2024-07-03T12:41:30.940358Z",
     "iopub.status.idle": "2024-07-03T12:41:30.951428Z",
     "shell.execute_reply": "2024-07-03T12:41:30.950251Z"
    },
    "papermill": {
     "duration": 0.024683,
     "end_time": "2024-07-03T12:41:30.953871",
     "exception": false,
     "start_time": "2024-07-03T12:41:30.929188",
     "status": "completed"
    },
    "tags": []
   },
   "outputs": [
    {
     "name": "stdout",
     "output_type": "stream",
     "text": [
      "<class 'pandas.core.series.Series'>\n",
      "RangeIndex: 418 entries, 0 to 417\n",
      "Series name: Age\n",
      "Non-Null Count  Dtype  \n",
      "--------------  -----  \n",
      "418 non-null    float64\n",
      "dtypes: float64(1)\n",
      "memory usage: 3.4 KB\n"
     ]
    }
   ],
   "source": [
    "test_set.Age.info()"
   ]
  },
  {
   "cell_type": "code",
   "execution_count": 13,
   "id": "9a1ba3e7",
   "metadata": {
    "execution": {
     "iopub.execute_input": "2024-07-03T12:41:30.969942Z",
     "iopub.status.busy": "2024-07-03T12:41:30.969541Z",
     "iopub.status.idle": "2024-07-03T12:41:30.988735Z",
     "shell.execute_reply": "2024-07-03T12:41:30.987411Z"
    },
    "papermill": {
     "duration": 0.03035,
     "end_time": "2024-07-03T12:41:30.991389",
     "exception": false,
     "start_time": "2024-07-03T12:41:30.961039",
     "status": "completed"
    },
    "tags": []
   },
   "outputs": [],
   "source": [
    "# Convert 'Age' column to a TensorFlow tensor\n",
    "test_age_tensor = tf.convert_to_tensor(test_set['Age'].values.reshape(-1, 1), dtype=tf.float32)\n",
    "\n",
    "# Create the normalization layer\n",
    "norm_layer = Normalization(axis=-1)\n",
    "\n",
    "# Adapt the normalization layer to the 'Age' tensor\n",
    "norm_layer.adapt(test_age_tensor)\n",
    "\n",
    "# Normalize the 'Age' column\n",
    "normalized_test_age = norm_layer(test_age_tensor)\n",
    "\n",
    "# Convert normalized tensor back to a pandas Series and add to the DataFrame\n",
    "test_set['norm_age'] = normalized_test_age.numpy().flatten()"
   ]
  },
  {
   "cell_type": "code",
   "execution_count": 14,
   "id": "c6ca3dbc",
   "metadata": {
    "execution": {
     "iopub.execute_input": "2024-07-03T12:41:31.007576Z",
     "iopub.status.busy": "2024-07-03T12:41:31.007160Z",
     "iopub.status.idle": "2024-07-03T12:41:31.015858Z",
     "shell.execute_reply": "2024-07-03T12:41:31.014765Z"
    },
    "papermill": {
     "duration": 0.019347,
     "end_time": "2024-07-03T12:41:31.018024",
     "exception": false,
     "start_time": "2024-07-03T12:41:30.998677",
     "status": "completed"
    },
    "tags": []
   },
   "outputs": [],
   "source": [
    "X_test = pd.get_dummies(test_set[features])"
   ]
  },
  {
   "cell_type": "code",
   "execution_count": 15,
   "id": "895737c8",
   "metadata": {
    "execution": {
     "iopub.execute_input": "2024-07-03T12:41:31.035913Z",
     "iopub.status.busy": "2024-07-03T12:41:31.035503Z",
     "iopub.status.idle": "2024-07-03T12:41:31.047659Z",
     "shell.execute_reply": "2024-07-03T12:41:31.046286Z"
    },
    "papermill": {
     "duration": 0.02403,
     "end_time": "2024-07-03T12:41:31.051063",
     "exception": false,
     "start_time": "2024-07-03T12:41:31.027033",
     "status": "completed"
    },
    "tags": []
   },
   "outputs": [],
   "source": [
    "from sklearn.model_selection import train_test_split\n",
    "X_train, X_val, y_train, y_val = train_test_split(X, y_train, train_size = 0.8, random_state = 42)"
   ]
  },
  {
   "cell_type": "code",
   "execution_count": 16,
   "id": "60d3851e",
   "metadata": {
    "execution": {
     "iopub.execute_input": "2024-07-03T12:41:31.071613Z",
     "iopub.status.busy": "2024-07-03T12:41:31.070730Z",
     "iopub.status.idle": "2024-07-03T12:41:31.077838Z",
     "shell.execute_reply": "2024-07-03T12:41:31.076424Z"
    },
    "papermill": {
     "duration": 0.022003,
     "end_time": "2024-07-03T12:41:31.083166",
     "exception": false,
     "start_time": "2024-07-03T12:41:31.061163",
     "status": "completed"
    },
    "tags": []
   },
   "outputs": [],
   "source": [
    "min_samples_split_list = [10,20, 40, 80, 100, 200, 300, 700]  \n",
    "max_depth_list = [2, 4, 8, 16, 32, 64]\n",
    "n_estimators_list = [10,50,100,500,700]"
   ]
  },
  {
   "cell_type": "code",
   "execution_count": 17,
   "id": "ac6cedfe",
   "metadata": {
    "execution": {
     "iopub.execute_input": "2024-07-03T12:41:31.101823Z",
     "iopub.status.busy": "2024-07-03T12:41:31.101441Z",
     "iopub.status.idle": "2024-07-03T12:41:34.361753Z",
     "shell.execute_reply": "2024-07-03T12:41:34.360684Z"
    },
    "papermill": {
     "duration": 3.272136,
     "end_time": "2024-07-03T12:41:34.364234",
     "exception": false,
     "start_time": "2024-07-03T12:41:31.092098",
     "status": "completed"
    },
    "tags": []
   },
   "outputs": [
    {
     "data": {
      "text/plain": [
       "<matplotlib.legend.Legend at 0x7ff3c0437d00>"
      ]
     },
     "execution_count": 17,
     "metadata": {},
     "output_type": "execute_result"
    },
    {
     "data": {
      "image/png": "[encoded data removed]",
      "text/plain": [
       "<Figure size 640x480 with 1 Axes>"
      ]
     },
     "metadata": {},
     "output_type": "display_data"
    }
   ],
   "source": [
    "import matplotlib.pyplot as plt\n",
    "from sklearn.metrics import accuracy_score\n",
    "accuracy_list_train = []\n",
    "accuracy_list_val = []\n",
    "\n",
    "for n_estimators in n_estimators_list:\n",
    "    # You can fit the model at the same time you define it, because the fit function returns the fitted estimator.\n",
    "    model = RandomForestClassifier(n_estimators = n_estimators,\n",
    "                                   random_state = 42).fit(X_train,y_train) \n",
    "    predictions_train = model.predict(X_train) ## The predicted values for the train dataset\n",
    "    predictions_val = model.predict(X_val) ## The predicted values for the test dataset\n",
    "    accuracy_train = accuracy_score(predictions_train,y_train)\n",
    "    accuracy_val = accuracy_score(predictions_val,y_val)\n",
    "    accuracy_list_train.append(accuracy_train)\n",
    "    accuracy_list_val.append(accuracy_val)\n",
    "\n",
    "plt.title('Train x Validation metrics')\n",
    "plt.xlabel('n_estimators')\n",
    "plt.ylabel('accuracy')\n",
    "plt.xticks(ticks = range(len(n_estimators_list )),labels=n_estimators_list)\n",
    "plt.plot(accuracy_list_train)\n",
    "plt.plot(accuracy_list_val)\n",
    "plt.legend(['Train','Validation'])"
   ]
  },
  {
   "cell_type": "code",
   "execution_count": 18,
   "id": "5c610a50",
   "metadata": {
    "execution": {
     "iopub.execute_input": "2024-07-03T12:41:34.382607Z",
     "iopub.status.busy": "2024-07-03T12:41:34.382207Z",
     "iopub.status.idle": "2024-07-03T12:41:35.912348Z",
     "shell.execute_reply": "2024-07-03T12:41:35.911248Z"
    },
    "papermill": {
     "duration": 1.542446,
     "end_time": "2024-07-03T12:41:35.915028",
     "exception": false,
     "start_time": "2024-07-03T12:41:34.372582",
     "status": "completed"
    },
    "tags": []
   },
   "outputs": [
    {
     "data": {
      "text/plain": [
       "<matplotlib.legend.Legend at 0x7ff41f213f40>"
      ]
     },
     "execution_count": 18,
     "metadata": {},
     "output_type": "execute_result"
    },
    {
     "data": {
      "image/png": "[encoded data removed]",
      "text/plain": [
       "<Figure size 640x480 with 1 Axes>"
      ]
     },
     "metadata": {},
     "output_type": "display_data"
    }
   ],
   "source": [
    "accuracy_list_train = []\n",
    "accuracy_list_val = []\n",
    "for max_depth in max_depth_list:\n",
    "    # You can fit the model at the same time you define it, because the fit function returns the fitted estimator.\n",
    "    model = RandomForestClassifier(max_depth = max_depth,\n",
    "                                   random_state = 42).fit(X_train,y_train) \n",
    "    predictions_train = model.predict(X_train) ## The predicted values for the train dataset\n",
    "    predictions_val = model.predict(X_val) ## The predicted values for the test dataset\n",
    "    accuracy_train = accuracy_score(predictions_train,y_train)\n",
    "    accuracy_val = accuracy_score(predictions_val,y_val)\n",
    "    accuracy_list_train.append(accuracy_train)\n",
    "    accuracy_list_val.append(accuracy_val)\n",
    "\n",
    "plt.title('Train x Validation metrics')\n",
    "plt.xlabel('max_depth')\n",
    "plt.ylabel('accuracy')\n",
    "plt.xticks(ticks = range(len(max_depth_list )),labels=max_depth_list)\n",
    "plt.plot(accuracy_list_train)\n",
    "plt.plot(accuracy_list_val)\n",
    "plt.legend(['Train','Validation'])"
   ]
  },
  {
   "cell_type": "code",
   "execution_count": 19,
   "id": "860c7eaa",
   "metadata": {
    "execution": {
     "iopub.execute_input": "2024-07-03T12:41:35.934071Z",
     "iopub.status.busy": "2024-07-03T12:41:35.933665Z",
     "iopub.status.idle": "2024-07-03T12:41:37.771510Z",
     "shell.execute_reply": "2024-07-03T12:41:37.770236Z"
    },
    "papermill": {
     "duration": 1.849913,
     "end_time": "2024-07-03T12:41:37.773745",
     "exception": false,
     "start_time": "2024-07-03T12:41:35.923832",
     "status": "completed"
    },
    "tags": []
   },
   "outputs": [
    {
     "data": {
      "text/plain": [
       "<matplotlib.legend.Legend at 0x7ff4312ab8e0>"
      ]
     },
     "execution_count": 19,
     "metadata": {},
     "output_type": "execute_result"
    },
    {
     "data": {
      "image/png": "[encoded data removed]",
      "text/plain": [
       "<Figure size 640x480 with 1 Axes>"
      ]
     },
     "metadata": {},
     "output_type": "display_data"
    }
   ],
   "source": [
    "accuracy_list_train = []\n",
    "accuracy_list_val = []\n",
    "for min_samples_split in min_samples_split_list:\n",
    "    # You can fit the model at the same time you define it, because the fit function returns the fitted estimator.\n",
    "    model = RandomForestClassifier(min_samples_split = min_samples_split,\n",
    "                                   random_state = 42).fit(X_train,y_train) \n",
    "    predictions_train = model.predict(X_train) ## The predicted values for the train dataset\n",
    "    predictions_val = model.predict(X_val) ## The predicted values for the test dataset\n",
    "    accuracy_train = accuracy_score(predictions_train,y_train)\n",
    "    accuracy_val = accuracy_score(predictions_val,y_val)\n",
    "    accuracy_list_train.append(accuracy_train)\n",
    "    accuracy_list_val.append(accuracy_val)\n",
    "\n",
    "plt.title('Train x Validation metrics')\n",
    "plt.xlabel('min_samples_split')\n",
    "plt.ylabel('accuracy')\n",
    "plt.xticks(ticks = range(len(min_samples_split_list )),labels=min_samples_split_list) \n",
    "plt.plot(accuracy_list_train)\n",
    "plt.plot(accuracy_list_val)\n",
    "plt.legend(['Train','Validation'])\n"
   ]
  },
  {
   "cell_type": "code",
   "execution_count": 20,
   "id": "4503054d",
   "metadata": {
    "execution": {
     "iopub.execute_input": "2024-07-03T12:41:37.793985Z",
     "iopub.status.busy": "2024-07-03T12:41:37.793594Z",
     "iopub.status.idle": "2024-07-03T12:41:37.800422Z",
     "shell.execute_reply": "2024-07-03T12:41:37.799313Z"
    },
    "papermill": {
     "duration": 0.019777,
     "end_time": "2024-07-03T12:41:37.802783",
     "exception": false,
     "start_time": "2024-07-03T12:41:37.783006",
     "status": "completed"
    },
    "tags": []
   },
   "outputs": [
    {
     "data": {
      "text/plain": [
       "(714, 6)"
      ]
     },
     "execution_count": 20,
     "metadata": {},
     "output_type": "execute_result"
    }
   ],
   "source": [
    "X.shape"
   ]
  },
  {
   "cell_type": "code",
   "execution_count": 21,
   "id": "610e9363",
   "metadata": {
    "execution": {
     "iopub.execute_input": "2024-07-03T12:41:37.823534Z",
     "iopub.status.busy": "2024-07-03T12:41:37.822415Z",
     "iopub.status.idle": "2024-07-03T12:41:37.829026Z",
     "shell.execute_reply": "2024-07-03T12:41:37.828065Z"
    },
    "papermill": {
     "duration": 0.019186,
     "end_time": "2024-07-03T12:41:37.831277",
     "exception": false,
     "start_time": "2024-07-03T12:41:37.812091",
     "status": "completed"
    },
    "tags": []
   },
   "outputs": [
    {
     "data": {
      "text/plain": [
       "(571,)"
      ]
     },
     "execution_count": 21,
     "metadata": {},
     "output_type": "execute_result"
    }
   ],
   "source": [
    "y_train.shape"
   ]
  },
  {
   "cell_type": "code",
   "execution_count": 22,
   "id": "d765c8cb",
   "metadata": {
    "execution": {
     "iopub.execute_input": "2024-07-03T12:41:37.851634Z",
     "iopub.status.busy": "2024-07-03T12:41:37.851228Z",
     "iopub.status.idle": "2024-07-03T12:41:37.949470Z",
     "shell.execute_reply": "2024-07-03T12:41:37.948363Z"
    },
    "papermill": {
     "duration": 0.111524,
     "end_time": "2024-07-03T12:41:37.952242",
     "exception": false,
     "start_time": "2024-07-03T12:41:37.840718",
     "status": "completed"
    },
    "tags": []
   },
   "outputs": [],
   "source": [
    "random_forest_model = RandomForestClassifier(n_estimators = 50,\n",
    "max_depth = 8,\n",
    "min_samples_split = 20).fit(X_train,y_train)"
   ]
  },
  {
   "cell_type": "code",
   "execution_count": 23,
   "id": "b03f2326",
   "metadata": {
    "execution": {
     "iopub.execute_input": "2024-07-03T12:41:37.973679Z",
     "iopub.status.busy": "2024-07-03T12:41:37.972610Z",
     "iopub.status.idle": "2024-07-03T12:41:37.989496Z",
     "shell.execute_reply": "2024-07-03T12:41:37.988295Z"
    },
    "papermill": {
     "duration": 0.029784,
     "end_time": "2024-07-03T12:41:37.991824",
     "exception": false,
     "start_time": "2024-07-03T12:41:37.962040",
     "status": "completed"
    },
    "tags": []
   },
   "outputs": [
    {
     "data": {
      "text/plain": [
       "array([0, 0, 0, 0, 0, 0, 0, 0, 1, 0, 0, 0, 1, 0, 1, 1, 0, 0, 0, 0, 0, 1,\n",
       "       1, 0, 1, 0, 1, 0, 0, 0, 0, 0, 0, 0, 0, 0, 0, 1, 0, 0, 0, 1, 0, 1,\n",
       "       1, 0, 0, 0, 1, 1, 0, 0, 1, 1, 0, 0, 0, 0, 0, 1, 0, 0, 0, 1, 0, 1,\n",
       "       1, 0, 1, 1, 1, 0, 0, 1, 1, 1, 0, 1, 0, 1, 1, 0, 0, 0, 0, 0, 1, 1,\n",
       "       0, 1, 0, 0, 1, 0, 0, 0, 1, 0, 1, 0, 1, 0, 0, 0, 1, 0, 0, 0, 0, 0,\n",
       "       0, 0, 1, 1, 1, 0, 0, 1, 1, 1, 1, 0, 1, 0, 0, 1, 0, 0, 0, 0, 0, 0,\n",
       "       0, 0, 0, 0, 0, 0, 1, 0, 0, 1, 0, 0, 0, 0, 1, 0, 1, 0, 1, 0, 0, 1,\n",
       "       0, 0, 1, 1, 0, 1, 0, 1, 1, 0, 0, 0, 0, 0, 1, 1, 0, 0, 0, 0, 0, 1,\n",
       "       1, 0, 1, 1, 0, 0, 1, 0, 1, 0, 1, 0, 0, 0, 0, 1, 0, 0, 1, 0, 1, 1,\n",
       "       0, 0, 0, 1, 1, 1, 0, 1, 0, 0, 1, 0, 0, 0, 0, 1, 0, 0, 0, 0, 1, 0,\n",
       "       1, 0, 1, 0, 1, 1, 0, 0, 0, 0, 0, 1, 0, 0, 0, 0, 0, 0, 1, 1, 1, 1,\n",
       "       0, 0, 0, 0, 1, 0, 1, 0, 1, 0, 0, 0, 0, 0, 0, 0, 1, 0, 0, 0, 1, 1,\n",
       "       0, 0, 1, 0, 0, 0, 0, 0, 1, 0, 0, 1, 0, 0, 0, 0, 1, 1, 0, 1, 1, 0,\n",
       "       0, 0, 0, 0, 1, 0, 0, 0, 0, 0, 1, 0, 1, 0, 0, 0, 0, 0, 0, 1, 0, 1,\n",
       "       0, 0, 0, 0, 0, 0, 1, 1, 0, 0, 0, 0, 0, 0, 0, 1, 1, 0, 1, 0, 0, 0,\n",
       "       1, 0, 0, 0, 0, 1, 0, 0, 0, 0, 0, 0, 0, 1, 0, 1, 0, 0, 0, 1, 1, 0,\n",
       "       0, 0, 1, 0, 1, 0, 0, 0, 0, 1, 1, 0, 1, 0, 0, 1, 1, 0, 0, 1, 0, 0,\n",
       "       1, 1, 0, 0, 0, 1, 0, 0, 0, 0, 0, 1, 0, 0, 0, 0, 0, 1, 0, 0, 0, 1,\n",
       "       0, 1, 0, 0, 1, 0, 1, 1, 0, 0, 0, 0, 0, 1, 0, 1, 1, 0, 1, 0, 0, 0])"
      ]
     },
     "execution_count": 23,
     "metadata": {},
     "output_type": "execute_result"
    }
   ],
   "source": [
    "predictions = random_forest_model.predict(X_test)\n",
    "\n",
    "predictions"
   ]
  },
  {
   "cell_type": "code",
   "execution_count": 24,
   "id": "31a04911",
   "metadata": {
    "execution": {
     "iopub.execute_input": "2024-07-03T12:41:38.013766Z",
     "iopub.status.busy": "2024-07-03T12:41:38.012958Z",
     "iopub.status.idle": "2024-07-03T12:41:38.023658Z",
     "shell.execute_reply": "2024-07-03T12:41:38.022337Z"
    },
    "papermill": {
     "duration": 0.023851,
     "end_time": "2024-07-03T12:41:38.025961",
     "exception": false,
     "start_time": "2024-07-03T12:41:38.002110",
     "status": "completed"
    },
    "tags": []
   },
   "outputs": [
    {
     "name": "stdout",
     "output_type": "stream",
     "text": [
      "Your submission was successfully saved!\n"
     ]
    }
   ],
   "source": [
    "output = pd.DataFrame({'PassengerId': test_set.PassengerId, 'Survived': predictions})\n",
    "output.to_csv('submission.csv', index=False)\n",
    "print(\"Your submission was successfully saved!\")"
   ]
  }
 ],
 "metadata": {
  "kaggle": {
   "accelerator": "none",
   "dataSources": [
    {
     "databundleVersionId": 26502,
     "sourceId": 3136,
     "sourceType": "competition"
    }
   ],
   "dockerImageVersionId": 30732,
   "isGpuEnabled": false,
   "isInternetEnabled": false,
   "language": "python",
   "sourceType": "notebook"
  },
  "kernelspec": {
   "display_name": "Python 3",
   "language": "python",
   "name": "python3"
  },
  "language_info": {
   "codemirror_mode": {
    "name": "ipython",
    "version": 3
   },
   "file_extension": ".py",
   "mimetype": "text/x-python",
   "name": "python",
   "nbconvert_exporter": "python",
   "pygments_lexer": "ipython3",
   "version": "3.10.13"
  },
  "papermill": {
   "default_parameters": {},
   "duration": 27.887577,
   "end_time": "2024-07-03T12:41:39.560664",
   "environment_variables": {},
   "exception": null,
   "input_path": "__notebook__.ipynb",
   "output_path": "__notebook__.ipynb",
   "parameters": {},
   "start_time": "2024-07-03T12:41:11.673087",
   "version": "2.5.0"
  }
 },
 "nbformat": 4,
 "nbformat_minor": 5
}
